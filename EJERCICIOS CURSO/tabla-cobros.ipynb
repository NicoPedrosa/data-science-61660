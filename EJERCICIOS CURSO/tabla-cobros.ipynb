{
 "cells": [
  {
   "cell_type": "code",
   "execution_count": 7,
   "metadata": {},
   "outputs": [
    {
     "ename": "ModuleNotFoundError",
     "evalue": "No module named 'pandas'",
     "output_type": "error",
     "traceback": [
      "\u001b[1;31m---------------------------------------------------------------------------\u001b[0m",
      "\u001b[1;31mModuleNotFoundError\u001b[0m                       Traceback (most recent call last)",
      "Cell \u001b[1;32mIn[7], line 1\u001b[0m\n\u001b[1;32m----> 1\u001b[0m \u001b[38;5;28;01mimport\u001b[39;00m \u001b[38;5;21;01mpandas\u001b[39;00m \u001b[38;5;28;01mas\u001b[39;00m \u001b[38;5;21;01mpd\u001b[39;00m\n",
      "\u001b[1;31mModuleNotFoundError\u001b[0m: No module named 'pandas'"
     ]
    }
   ],
   "source": [
    "import pandas as pd"
   ]
  },
  {
   "cell_type": "code",
   "execution_count": 1,
   "metadata": {},
   "outputs": [
    {
     "ename": "NameError",
     "evalue": "name 'pd' is not defined",
     "output_type": "error",
     "traceback": [
      "\u001b[1;31m---------------------------------------------------------------------------\u001b[0m",
      "\u001b[1;31mNameError\u001b[0m                                 Traceback (most recent call last)",
      "Cell \u001b[1;32mIn[1], line 1\u001b[0m\n\u001b[1;32m----> 1\u001b[0m df \u001b[38;5;241m=\u001b[39m \u001b[43mpd\u001b[49m\u001b[38;5;241m.\u001b[39mread_excel(\u001b[38;5;124m'\u001b[39m\u001b[38;5;124mFED PAT COBROS.xlsx\u001b[39m\u001b[38;5;124m'\u001b[39m, sheet_name\u001b[38;5;241m=\u001b[39m\u001b[38;5;124m'\u001b[39m\u001b[38;5;124mFP COBROS\u001b[39m\u001b[38;5;124m'\u001b[39m)\n",
      "\u001b[1;31mNameError\u001b[0m: name 'pd' is not defined"
     ]
    }
   ],
   "source": [
    "df = pd.read_excel('FED PAT COBROS.xlsx', sheet_name='FP COBROS')"
   ]
  },
  {
   "cell_type": "code",
   "execution_count": 5,
   "metadata": {},
   "outputs": [
    {
     "ename": "NameError",
     "evalue": "name 'df' is not defined",
     "output_type": "error",
     "traceback": [
      "\u001b[1;31m---------------------------------------------------------------------------\u001b[0m",
      "\u001b[1;31mNameError\u001b[0m                                 Traceback (most recent call last)",
      "Cell \u001b[1;32mIn[5], line 1\u001b[0m\n\u001b[1;32m----> 1\u001b[0m \u001b[38;5;28mprint\u001b[39m(\u001b[43mdf\u001b[49m\u001b[38;5;241m.\u001b[39minfo())\n",
      "\u001b[1;31mNameError\u001b[0m: name 'df' is not defined"
     ]
    }
   ],
   "source": [
    "print(df.info())"
   ]
  },
  {
   "cell_type": "code",
   "execution_count": 5,
   "metadata": {},
   "outputs": [
    {
     "name": "stdout",
     "output_type": "stream",
     "text": [
      "Detalle de Nulos:\n",
      "ID                        0\n",
      "Fec. Ing.                 0\n",
      "Ingreso                   0\n",
      "Fec. Cobro                0\n",
      "Asegurado                 0\n",
      "Cuota                     0\n",
      "Recibo                    1\n",
      "Póliza                    0\n",
      "Compañía                  0\n",
      "Mon.                      0\n",
      "Mto. Pagado               0\n",
      "Origen                    0\n",
      "Cobrador                  0\n",
      "Numero De Referencia    160\n",
      "dtype: int64\n"
     ]
    }
   ],
   "source": [
    "print('Detalle de Nulos:')\n",
    "print(df.isnull().sum())"
   ]
  },
  {
   "cell_type": "code",
   "execution_count": 9,
   "metadata": {},
   "outputs": [
    {
     "name": "stdout",
     "output_type": "stream",
     "text": [
      "            Ingreso        Recibo    Mto. Pagado      Cobrador  \\\n",
      "count  1.100100e+04  1.100000e+04   11001.000000  11001.000000   \n",
      "mean   1.688660e+07  7.529566e+12    4734.062164      0.513317   \n",
      "std    7.538783e+05  1.048155e+14   14085.033470     17.024860   \n",
      "min    1.579043e+07  2.233376e+08       7.700000      0.000000   \n",
      "25%    1.629453e+07  1.283626e+10     134.000000      0.000000   \n",
      "50%    1.691711e+07  4.297317e+10     319.000000      0.000000   \n",
      "75%    1.765874e+07  1.922695e+11    3005.000000      0.000000   \n",
      "max    1.802115e+07  1.922929e+15  359040.560000    717.000000   \n",
      "\n",
      "       Numero De Referencia  \n",
      "count          1.084100e+04  \n",
      "mean           2.806187e+07  \n",
      "std            2.770460e+06  \n",
      "min            2.338599e+07  \n",
      "25%            2.550720e+07  \n",
      "50%            2.823136e+07  \n",
      "75%            3.056592e+07  \n",
      "max            3.312646e+07  \n"
     ]
    }
   ],
   "source": [
    "print(df.describe())"
   ]
  },
  {
   "cell_type": "code",
   "execution_count": 12,
   "metadata": {},
   "outputs": [
    {
     "name": "stdout",
     "output_type": "stream",
     "text": [
      "Cantidad de nulos:\n",
      "ID                        0\n",
      "Fec. Ing.                 0\n",
      "Ingreso                   0\n",
      "Fec. Cobro                0\n",
      "Asegurado                 0\n",
      "Cuota                     0\n",
      "Recibo                    1\n",
      "Póliza                    0\n",
      "Compañía                  0\n",
      "Mon.                      0\n",
      "Mto. Pagado               0\n",
      "Origen                    0\n",
      "Cobrador                  0\n",
      "Numero De Referencia    160\n",
      "dtype: int64\n"
     ]
    }
   ],
   "source": [
    "print('Cantidad de nulos:')\n",
    "print(df.isnull().sum())"
   ]
  },
  {
   "cell_type": "code",
   "execution_count": 15,
   "metadata": {},
   "outputs": [],
   "source": [
    "from sklearn.impute import SimpleImputer\n",
    "import numpy as np "
   ]
  },
  {
   "cell_type": "code",
   "execution_count": 18,
   "metadata": {},
   "outputs": [
    {
     "name": "stdout",
     "output_type": "stream",
     "text": [
      "Origen\n",
      "CAJA SELF PRODUCTORES                87893.27\n",
      "CAJA WEB ASEGURADOS                  18398.84\n",
      "COBRO EXPRESS ONLINE                  9937.00\n",
      "COBRO EXPRESS PRODUCTOR ONLINE      386705.39\n",
      "DEB AUT AMEX                         66954.62\n",
      "DEB AUT CBU                         433229.25\n",
      "DEB AUT MASTERCARD                   79844.46\n",
      "DEB AUT NARANJA                      11836.46\n",
      "DEB AUT VISA                        911119.42\n",
      "DEBITO AUTOMATICO                  1016439.17\n",
      "MOSTRADOR WEB                        54926.76\n",
      "PAGO FACIL OFFLINE (AJUSTE)          14333.44\n",
      "PAGO FACIL ONLINE                 17483289.22\n",
      "PAGO MIS CUENTAS                   2759518.24\n",
      "PAGOS LINK                        14059453.67\n",
      "PLUSPAGOS ONLINE                      2388.23\n",
      "PRISMA -VISA DEBITO-                 73347.80\n",
      "PRODUCTOR                             2708.00\n",
      "PRONTO PAGO ONLINE                    1727.11\n",
      "PROVINCIA NET ONLINE                 67592.57\n",
      "RAPIPAGO OFF LINE                     9089.87\n",
      "RAPIPAGO ONLINE                   14526826.86\n",
      "VISA PAGO PUNTUAL                     1858.22\n",
      "Name: Mto. Pagado, dtype: float64\n"
     ]
    }
   ],
   "source": [
    "cobros_por_origen = df.groupby('Origen')['Mto. Pagado'].sum()\n",
    "\n",
    "print(cobros_por_origen)"
   ]
  },
  {
   "cell_type": "code",
   "execution_count": 22,
   "metadata": {},
   "outputs": [
    {
     "name": "stdout",
     "output_type": "stream",
     "text": [
      "Mto. Pagado    4734.062164\n",
      "dtype: float64\n"
     ]
    }
   ],
   "source": [
    "print(df[['Mto. Pagado']].mean())"
   ]
  },
  {
   "cell_type": "code",
   "execution_count": 23,
   "metadata": {},
   "outputs": [
    {
     "name": "stdout",
     "output_type": "stream",
     "text": [
      "Mto. Pagado    319.0\n",
      "dtype: float64\n"
     ]
    }
   ],
   "source": [
    "print(df[['Mto. Pagado']].median())"
   ]
  },
  {
   "cell_type": "code",
   "execution_count": 24,
   "metadata": {},
   "outputs": [
    {
     "name": "stdout",
     "output_type": "stream",
     "text": [
      "Mto. Pagado\n",
      "7.70         1\n",
      "8.02         1\n",
      "16.14        1\n",
      "23.00        1\n",
      "24.50        1\n",
      "            ..\n",
      "251443.16    1\n",
      "287596.88    1\n",
      "332225.75    1\n",
      "356618.69    1\n",
      "359040.56    1\n",
      "Length: 3206, dtype: int64\n"
     ]
    }
   ],
   "source": [
    "print(df.groupby('Mto. Pagado').size())"
   ]
  },
  {
   "cell_type": "code",
   "execution_count": 27,
   "metadata": {},
   "outputs": [
    {
     "name": "stdout",
     "output_type": "stream",
     "text": [
      "        ID   Fec. Ing.   Ingreso  Fec. Cobro                   Asegurado  \\\n",
      "1723  1250  21/01/2020  15812590  19/01/2020      RICCA FACUNDO HORACIO    \n",
      "1725  1250  21/01/2020  15812590  19/01/2020      RICCA FACUNDO HORACIO    \n",
      "1726  1250  21/01/2020  15812590  19/01/2020      RICCA FACUNDO HORACIO    \n",
      "2263  1845  05/01/2021  16292184  04/01/2021  DE NIGRIS CLAUDIO ALEJAND    \n",
      "2274   117  05/01/2021  16292184  04/01/2021              AVILA GELACIO    \n",
      "...    ...         ...       ...         ...                         ...   \n",
      "4971  1049  10/03/2022  16842774  08/03/2022         MUZI MARIA EUGENIA    \n",
      "4979  1049  10/03/2022  16842774  08/03/2022         MUZI MARIA EUGENIA    \n",
      "4986  1049  10/03/2022  16842774  08/03/2022         MUZI MARIA EUGENIA    \n",
      "5055   350  17/03/2022  16852543  15/03/2022        CHENA JULIAN BENITO    \n",
      "5059   350  17/03/2022  16852543  15/03/2022        CHENA JULIAN BENITO    \n",
      "\n",
      "           Cuota        Recibo         Póliza                     Compañía  \\\n",
      "1723    Cta.3/12  1.921176e+11  19/21176368/0  726 Fed.Patronal Seguros SA   \n",
      "1725    Cta.3/12  1.257390e+10   12/5739008/0  726 Fed.Patronal Seguros SA   \n",
      "1726     Cta.3/6  4.257013e+10   4/25701340/0  726 Fed.Patronal Seguros SA   \n",
      "2263    Cta.2/12  1.262572e+10   12/6257188/0  726 Fed.Patronal Seguros SA   \n",
      "2274    Cta.1/12  1.921820e+11  19/21820117/0  726 Fed.Patronal Seguros SA   \n",
      "...          ...           ...            ...                          ...   \n",
      "4971   Cta.12/12  1.923231e+12  19/23231378/0  726 Fed.Patronal Seguros SA   \n",
      "4979   Cta.12/12  1.264249e+11   12/6424924/0  726 Fed.Patronal Seguros SA   \n",
      "4986     Cta.4/4  4.274559e+10   4/27455889/0  726 Fed.Patronal Seguros SA   \n",
      "5055    Cta.2/12  1.269427e+10   12/6942678/0  726 Fed.Patronal Seguros SA   \n",
      "5059     Cta.2/4  4.286457e+10   4/28645683/0  726 Fed.Patronal Seguros SA   \n",
      "\n",
      "     Mon.  Mto. Pagado                Origen  Cobrador  Numero De Referencia  \n",
      "1723    $        35.00  PRISMA -VISA DEBITO-         0            24739981.0  \n",
      "1725    $       134.00  PRISMA -VISA DEBITO-         0            24739981.0  \n",
      "1726    $      2174.00  PRISMA -VISA DEBITO-         0            24739981.0  \n",
      "2263    $        26.00          DEB AUT VISA         0            26420694.0  \n",
      "2274    $        33.25          DEB AUT VISA         0            25423644.0  \n",
      "...   ...          ...                   ...       ...                   ...  \n",
      "4971    $        65.01  PRISMA -VISA DEBITO-         0            26941606.0  \n",
      "4979    $       133.06  PRISMA -VISA DEBITO-         0            26941606.0  \n",
      "4986    $      2268.60  PRISMA -VISA DEBITO-         0            26941606.0  \n",
      "5055    $       319.00  PRISMA -VISA DEBITO-         0            28464482.0  \n",
      "5059    $      4323.00  PRISMA -VISA DEBITO-         0            28464482.0  \n",
      "\n",
      "[761 rows x 14 columns]\n"
     ]
    }
   ],
   "source": [
    "filtro_VISA = df[df['Origen'].str.contains('VISA', case=False)]\n",
    "\n",
    "print(filtro_VISA)"
   ]
  },
  {
   "cell_type": "code",
   "execution_count": 30,
   "metadata": {},
   "outputs": [
    {
     "name": "stdout",
     "output_type": "stream",
     "text": [
      "Monto total de cobros con VISA: 986325.44\n"
     ]
    }
   ],
   "source": [
    "monto_total_VISA = filtro_VISA['Mto. Pagado'].sum()\n",
    "print(\"Monto total de cobros con VISA:\", monto_total_VISA)"
   ]
  }
 ],
 "metadata": {
  "kernelspec": {
   "display_name": "base",
   "language": "python",
   "name": "python3"
  },
  "language_info": {
   "codemirror_mode": {
    "name": "ipython",
    "version": 3
   },
   "file_extension": ".py",
   "mimetype": "text/x-python",
   "name": "python",
   "nbconvert_exporter": "python",
   "pygments_lexer": "ipython3",
   "version": "3.12.5"
  }
 },
 "nbformat": 4,
 "nbformat_minor": 2
}

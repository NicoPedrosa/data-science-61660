{
 "cells": [
  {
   "cell_type": "code",
   "execution_count": 18,
   "metadata": {},
   "outputs": [],
   "source": [
    "import pandas as pd"
   ]
  },
  {
   "cell_type": "code",
   "execution_count": 19,
   "metadata": {},
   "outputs": [],
   "source": [
    "df = pd.read_excel('cobros_unificado 01-09-23 a 30-08-24.xlsx', sheet_name='FP COBROS')"
   ]
  },
  {
   "cell_type": "code",
   "execution_count": 20,
   "metadata": {},
   "outputs": [
    {
     "name": "stdout",
     "output_type": "stream",
     "text": [
      "<class 'pandas.core.frame.DataFrame'>\n",
      "RangeIndex: 30000 entries, 0 to 29999\n",
      "Data columns (total 12 columns):\n",
      " #   Column                Non-Null Count  Dtype  \n",
      "---  ------                --------------  -----  \n",
      " 0   Fec. Ing.             30000 non-null  object \n",
      " 1   Ingreso               30000 non-null  int64  \n",
      " 2   Fec. Cobro            30000 non-null  object \n",
      " 3   Asegurado             30000 non-null  object \n",
      " 4   Cuota n°              30000 non-null  object \n",
      " 5   Póliza                30000 non-null  object \n",
      " 6   Compañía              30000 non-null  object \n",
      " 7   Mon.                  30000 non-null  object \n",
      " 8   Mto. Pagado           30000 non-null  float64\n",
      " 9   Origen                30000 non-null  object \n",
      " 10  Cobrador              30000 non-null  int64  \n",
      " 11  Numero De Referencia  29148 non-null  float64\n",
      "dtypes: float64(2), int64(2), object(8)\n",
      "memory usage: 2.7+ MB\n",
      "None\n"
     ]
    }
   ],
   "source": [
    "print(df.info())"
   ]
  },
  {
   "cell_type": "code",
   "execution_count": 6,
   "metadata": {},
   "outputs": [
    {
     "name": "stdout",
     "output_type": "stream",
     "text": [
      "Detalle de Nulos:\n",
      "Fec. Ing.                 0\n",
      "Ingreso                   0\n",
      "Fec. Cobro                0\n",
      "Asegurado                 0\n",
      "Cuota n°                  0\n",
      "Póliza                    0\n",
      "Compañía                  0\n",
      "Mon.                      0\n",
      "Mto. Pagado               0\n",
      "Origen                    0\n",
      "Cobrador                  0\n",
      "Numero De Referencia    852\n",
      "dtype: int64\n"
     ]
    }
   ],
   "source": [
    "print('Detalle de Nulos:')\n",
    "print(df.isnull().sum())"
   ]
  },
  {
   "cell_type": "code",
   "execution_count": 7,
   "metadata": {},
   "outputs": [
    {
     "name": "stdout",
     "output_type": "stream",
     "text": [
      "            Ingreso    Mto. Pagado      Cobrador  Numero De Referencia\n",
      "count  3.000000e+04   30000.000000  30000.000000          2.914800e+04\n",
      "mean   1.788050e+07   13436.240537      0.164433          3.151837e+07\n",
      "std    1.696633e+05   26159.870020      2.899737          9.043908e+05\n",
      "min    1.759212e+07       1.690000      0.000000          2.951466e+07\n",
      "25%    1.773660e+07     300.000000      0.000000          3.080949e+07\n",
      "50%    1.788500e+07     750.000000      0.000000          3.148824e+07\n",
      "75%    1.803338e+07   18645.000000      0.000000          3.217670e+07\n",
      "max    1.818072e+07  657883.950000    100.000000          3.391090e+07\n"
     ]
    }
   ],
   "source": [
    "print(df.describe())"
   ]
  },
  {
   "cell_type": "code",
   "execution_count": 8,
   "metadata": {},
   "outputs": [
    {
     "name": "stdout",
     "output_type": "stream",
     "text": [
      "Cantidad de nulos:\n",
      "Fec. Ing.                 0\n",
      "Ingreso                   0\n",
      "Fec. Cobro                0\n",
      "Asegurado                 0\n",
      "Cuota n°                  0\n",
      "Póliza                    0\n",
      "Compañía                  0\n",
      "Mon.                      0\n",
      "Mto. Pagado               0\n",
      "Origen                    0\n",
      "Cobrador                  0\n",
      "Numero De Referencia    852\n",
      "dtype: int64\n"
     ]
    }
   ],
   "source": [
    "print('Cantidad de nulos:')\n",
    "print(df.isnull().sum())"
   ]
  },
  {
   "cell_type": "code",
   "execution_count": 9,
   "metadata": {},
   "outputs": [],
   "source": [
    "from sklearn.impute import SimpleImputer\n",
    "import numpy as np "
   ]
  },
  {
   "cell_type": "code",
   "execution_count": 11,
   "metadata": {},
   "outputs": [
    {
     "name": "stdout",
     "output_type": "stream",
     "text": [
      "Origen\n",
      "CAJA SELF PRODUCTORES             53,409,074.86\n",
      "CAJA WEB ASEGURADOS                6,127,114.67\n",
      "COBRO EXPRESS ONLINE                 641,461.75\n",
      "COBRO EXPRESS PRODUCTOR ONLINE    16,259,057.55\n",
      "DEB AUT AMEX                       2,431,472.26\n",
      "DEB AUT CABAL                        435,797.35\n",
      "DEB AUT CBU                       22,171,931.60\n",
      "DEB AUT MASTERCARD                 5,241,780.31\n",
      "DEB AUT NARANJA                      378,535.93\n",
      "DEB AUT VISA                     120,178,693.17\n",
      "DTO 1RA CTA PRODUCTOS ESPEC.          95,168.66\n",
      "MULTIPAGO OFF LINE                    37,054.00\n",
      "MULTIPAGO ONLINE                      37,054.00\n",
      "PAGO FACIL OFFLINE (AJUSTE)          385,901.60\n",
      "PAGO FACIL ONLINE                132,329,639.88\n",
      "PAGO24 ONLINE                        198,750.00\n",
      "PAGOMISCUENTAS ONLINE              6,154,928.59\n",
      "PAGOS LINK                        13,726,427.89\n",
      "PLUSPAGOS ONLINE                     650,777.89\n",
      "PROVINCIA NET ONLINE               1,889,605.93\n",
      "RAPIPAGO OFF LINE                    282,425.58\n",
      "RAPIPAGO ONLINE                   19,128,272.50\n",
      "RIPSA AJUSTE                         147,150.00\n",
      "RIPSA ONLINE                         749,140.15\n",
      "Name: Mto. Pagado, dtype: float64\n"
     ]
    }
   ],
   "source": [
    "import pandas as pd\n",
    "\n",
    "# Configurar pandas para mostrar números con coma flotante y dos decimales\n",
    "pd.set_option('display.float_format', '{:,.2f}'.format)\n",
    "\n",
    "cobros_por_origen = df.groupby('Origen')['Mto. Pagado'].sum()\n",
    "\n",
    "print(cobros_por_origen)"
   ]
  },
  {
   "cell_type": "code",
   "execution_count": 12,
   "metadata": {},
   "outputs": [
    {
     "name": "stdout",
     "output_type": "stream",
     "text": [
      "Mto. Pagado   403,087,216.12\n",
      "dtype: float64\n"
     ]
    }
   ],
   "source": [
    "print(df[['Mto. Pagado']].sum())"
   ]
  },
  {
   "cell_type": "code",
   "execution_count": 13,
   "metadata": {},
   "outputs": [
    {
     "name": "stdout",
     "output_type": "stream",
     "text": [
      "Mto. Pagado   750.00\n",
      "dtype: float64\n"
     ]
    }
   ],
   "source": [
    "print(df[['Mto. Pagado']].median())"
   ]
  },
  {
   "cell_type": "code",
   "execution_count": 16,
   "metadata": {},
   "outputs": [
    {
     "name": "stdout",
     "output_type": "stream",
     "text": [
      "Mto. Pagado\n",
      "1.69            1\n",
      "10.23           1\n",
      "20.72          15\n",
      "25.56           1\n",
      "26.00         145\n",
      "             ... \n",
      "464,874.28      1\n",
      "464,875.00      3\n",
      "491,457.04      1\n",
      "657,883.00      1\n",
      "657,883.95      1\n",
      "Length: 7485, dtype: int64\n"
     ]
    }
   ],
   "source": [
    "print(df.groupby('Mto. Pagado').size())"
   ]
  },
  {
   "cell_type": "code",
   "execution_count": 52,
   "metadata": {},
   "outputs": [
    {
     "name": "stdout",
     "output_type": "stream",
     "text": [
      "                      Asegurado Fec. Cobro  Mto. Pagado\n",
      "78       ACOSTA CARLOS ALBERTO  2024-08-02   152,507.68\n",
      "113          RACHELE MARIANELA  2024-08-02   135,881.00\n",
      "127     ANTOLIN GASTON EDUARDO  2024-08-02   129,256.14\n",
      "147      SAUCEDO LUCIA AZUCENA  2024-08-02   123,479.00\n",
      "183    BONETTI EDUARDO HORACIO  2024-08-02   113,911.00\n",
      "...                         ...        ...          ...\n",
      "28185     PAVONI PABLO EDUARDO  2024-08-02       243.00\n",
      "28186    ROMERO MARCELO RAFAEL  2024-08-02       243.00\n",
      "28187     ABAT JONATHAN LEONEL  2024-08-02       243.00\n",
      "28190      ROLON LUCAS GABRIEL  2024-08-05       243.00\n",
      "29775     ABAT JONATHAN LEONEL  2024-08-02        46.00\n",
      "\n",
      "[395 rows x 3 columns]\n"
     ]
    },
    {
     "name": "stderr",
     "output_type": "stream",
     "text": [
      "C:\\Users\\usuario\\AppData\\Local\\Temp\\ipykernel_19448\\2456290004.py:4: UserWarning: Parsing dates in %d/%m/%Y format when dayfirst=False (the default) was specified. Pass `dayfirst=True` or specify a format to silence this warning.\n",
      "  df['Fec. Cobro'] = pd.to_datetime(df['Fec. Cobro'], errors='coerce')  # Convertir a datetime y manejar errores\n"
     ]
    }
   ],
   "source": [
    "\n",
    "import pandas as pd\n",
    "\n",
    "# Asegúrate de que la columna 'Fec. Cobro' esté en formato de fecha\n",
    "df['Fec. Cobro'] = pd.to_datetime(df['Fec. Cobro'], errors='coerce')  # Convertir a datetime y manejar errores\n",
    "\n",
    "# Definir el rango de fechas\n",
    "fecha_inicio = '2024-08-01'  # Fecha de inicio\n",
    "fecha_fin = '2024-08-07'     # Fecha de fin\n",
    "\n",
    "# Filtrar por 'Origen' que contiene 'VISA' y por rango de fechas en 'Fec. Cobro'\n",
    "filtro_VISA = df[\n",
    "    (df['Origen'].str.contains('VISA', case=False)) &  # Filtro por 'VISA'\n",
    "    (df['Fec. Cobro'] >= fecha_inicio) &  # Filtro por fecha de inicio\n",
    "    (df['Fec. Cobro'] <= fecha_fin)       # Filtro por fecha de fin\n",
    "][['Asegurado', 'Fec. Cobro', 'Mto. Pagado']]  # Seleccionar solo las columnas deseadas\n",
    "\n",
    "# Imprimir el resultado filtrado\n",
    "print(filtro_VISA)"
   ]
  },
  {
   "cell_type": "code",
   "execution_count": 69,
   "metadata": {},
   "outputs": [
    {
     "name": "stdout",
     "output_type": "stream",
     "text": [
      "Monto total de cobros con PAGO FACIL: 1301214.52\n"
     ]
    }
   ],
   "source": [
    "\n",
    "filtro_PAGO_FACIL = df[\n",
    "    (df['Origen'].str.contains('PAGO FACIL', case=False)) &  # Filtro por 'VISA'\n",
    "    (df['Fec. Cobro'] >= '2024-08-02') &  # Filtro por fecha de inicio\n",
    "    (df['Fec. Cobro'] <= '2024-08-02')       # Filtro por fecha de fin\n",
    "][['Asegurado', 'Fec. Cobro', 'Mto. Pagado']]  # Seleccionar solo las columnas deseadas\n",
    "monto_total_PAGO_FACIL = filtro_PAGO_FACIL['Mto. Pagado'].sum()\n",
    "print(\"Monto total de cobros con PAGO FACIL:\", monto_total_PAGO_FACIL)"
   ]
  },
  {
   "cell_type": "code",
   "execution_count": 42,
   "metadata": {},
   "outputs": [
    {
     "name": "stdout",
     "output_type": "stream",
     "text": [
      "                                Mto. Pagado  Numero De Referencia\n",
      "Origen                                                           \n",
      "CAJA SELF PRODUCTORES               7814.70            26615052.0\n",
      "CAJA WEB ASEGURADOS                 3090.00            26455225.0\n",
      "COBRO EXPRESS ONLINE                4804.00            26049822.0\n",
      "COBRO EXPRESS PRODUCTOR ONLINE      9554.00            26652980.0\n",
      "DEB AUT AMEX                        5737.97            26520567.0\n",
      "DEB AUT CBU                        36443.00            26616701.0\n",
      "DEB AUT MASTERCARD                  7840.80            26618327.0\n",
      "DEB AUT NARANJA                     4150.55            26088768.0\n",
      "DEB AUT VISA                       20547.00            26626970.0\n",
      "DEBITO AUTOMATICO                  33020.00            24998649.0\n",
      "MOSTRADOR WEB                       4431.56            26409510.0\n",
      "PAGO FACIL OFFLINE (AJUSTE)         5261.10            26133743.0\n",
      "PAGO FACIL ONLINE                 356618.69            32572576.0\n",
      "PAGO MIS CUENTAS                   33999.00            28917907.0\n",
      "PAGOS LINK                        359040.56            33065265.0\n",
      "PLUSPAGOS ONLINE                    2219.23            24162698.0\n",
      "PRISMA -VISA DEBITO-                9441.00            28464482.0\n",
      "PRODUCTOR                           2538.82            25136760.0\n",
      "PRONTO PAGO ONLINE                  1565.61            25971509.0\n",
      "PROVINCIA NET ONLINE                6948.00            26548633.0\n",
      "RAPIPAGO OFF LINE                   3591.96            25975387.0\n",
      "RAPIPAGO ONLINE                   251443.16            33126461.0\n",
      "VISA PAGO PUNTUAL                   1696.72            25823966.0\n"
     ]
    }
   ],
   "source": [
    "print(df.groupby('Origen')[['Mto. Pagado','Numero De Referencia']].max())"
   ]
  },
  {
   "cell_type": "code",
   "execution_count": 70,
   "metadata": {},
   "outputs": [],
   "source": [
    "bins = [0,134,319,3005,float('inf')]\n",
    "labels = ['Cuota baja','Cuota media','Cuota alta','Cuota muy alta']\n",
    "df['Cuota_Agrupada'] = pd.cut(df['Mto. Pagado'], \n",
    "                             bins = bins, \n",
    "                             labels = labels, \n",
    "                             right = False)"
   ]
  },
  {
   "cell_type": "code",
   "execution_count": 71,
   "metadata": {},
   "outputs": [
    {
     "data": {
      "text/html": [
       "<div>\n",
       "<style scoped>\n",
       "    .dataframe tbody tr th:only-of-type {\n",
       "        vertical-align: middle;\n",
       "    }\n",
       "\n",
       "    .dataframe tbody tr th {\n",
       "        vertical-align: top;\n",
       "    }\n",
       "\n",
       "    .dataframe thead th {\n",
       "        text-align: right;\n",
       "    }\n",
       "</style>\n",
       "<table border=\"1\" class=\"dataframe\">\n",
       "  <thead>\n",
       "    <tr style=\"text-align: right;\">\n",
       "      <th></th>\n",
       "      <th>Fec. Ing.</th>\n",
       "      <th>Ingreso</th>\n",
       "      <th>Fec. Cobro</th>\n",
       "      <th>Asegurado</th>\n",
       "      <th>Cuota n°</th>\n",
       "      <th>Póliza</th>\n",
       "      <th>Compañía</th>\n",
       "      <th>Mon.</th>\n",
       "      <th>Mto. Pagado</th>\n",
       "      <th>Origen</th>\n",
       "      <th>Cobrador</th>\n",
       "      <th>Numero De Referencia</th>\n",
       "      <th>Cuota_Agrupada</th>\n",
       "    </tr>\n",
       "  </thead>\n",
       "  <tbody>\n",
       "    <tr>\n",
       "      <th>0</th>\n",
       "      <td>2024-06-24</td>\n",
       "      <td>18066336</td>\n",
       "      <td>2024-06-14</td>\n",
       "      <td>INTELEKTRON S.A.</td>\n",
       "      <td>Cta.6/6</td>\n",
       "      <td>4/30706114/0</td>\n",
       "      <td>726 Fed.Patronal Seguros SA</td>\n",
       "      <td>$</td>\n",
       "      <td>657,883.95</td>\n",
       "      <td>DEB AUT CBU</td>\n",
       "      <td>6</td>\n",
       "      <td>NaN</td>\n",
       "      <td>Cuota muy alta</td>\n",
       "    </tr>\n",
       "    <tr>\n",
       "      <th>1</th>\n",
       "      <td>2024-02-21</td>\n",
       "      <td>17871094</td>\n",
       "      <td>2024-02-16</td>\n",
       "      <td>INTELEKTRON S.A.</td>\n",
       "      <td>Cta.2/6</td>\n",
       "      <td>4/30706114/0</td>\n",
       "      <td>726 Fed.Patronal Seguros SA</td>\n",
       "      <td>$</td>\n",
       "      <td>657,883.00</td>\n",
       "      <td>DEB AUT CBU</td>\n",
       "      <td>6</td>\n",
       "      <td>NaN</td>\n",
       "      <td>Cuota muy alta</td>\n",
       "    </tr>\n",
       "    <tr>\n",
       "      <th>2</th>\n",
       "      <td>2024-07-18</td>\n",
       "      <td>18109375</td>\n",
       "      <td>2024-07-15</td>\n",
       "      <td>OBRA SOCIAL DE RELOJEROS</td>\n",
       "      <td>Cta.1/4</td>\n",
       "      <td>4/32425709/0</td>\n",
       "      <td>726 Fed.Patronal Seguros SA</td>\n",
       "      <td>$</td>\n",
       "      <td>491,457.04</td>\n",
       "      <td>PAGOS LINK</td>\n",
       "      <td>0</td>\n",
       "      <td>33,570,136.00</td>\n",
       "      <td>Cuota muy alta</td>\n",
       "    </tr>\n",
       "    <tr>\n",
       "      <th>3</th>\n",
       "      <td>2024-04-11</td>\n",
       "      <td>17949902</td>\n",
       "      <td>2024-04-11</td>\n",
       "      <td>BASILE NAHUEL JEREMIAS</td>\n",
       "      <td>Cta.1/4</td>\n",
       "      <td>4/31373490/0</td>\n",
       "      <td>726 Fed.Patronal Seguros SA</td>\n",
       "      <td>$</td>\n",
       "      <td>464,875.00</td>\n",
       "      <td>PAGO FACIL ONLINE</td>\n",
       "      <td>0</td>\n",
       "      <td>32,086,429.00</td>\n",
       "      <td>Cuota muy alta</td>\n",
       "    </tr>\n",
       "    <tr>\n",
       "      <th>4</th>\n",
       "      <td>2024-05-20</td>\n",
       "      <td>18013690</td>\n",
       "      <td>2024-05-20</td>\n",
       "      <td>BASILE NAHUEL JEREMIAS</td>\n",
       "      <td>Cta.2/4</td>\n",
       "      <td>4/31373490/0</td>\n",
       "      <td>726 Fed.Patronal Seguros SA</td>\n",
       "      <td>$</td>\n",
       "      <td>464,875.00</td>\n",
       "      <td>PAGO FACIL ONLINE</td>\n",
       "      <td>0</td>\n",
       "      <td>32,086,429.00</td>\n",
       "      <td>Cuota muy alta</td>\n",
       "    </tr>\n",
       "  </tbody>\n",
       "</table>\n",
       "</div>"
      ],
      "text/plain": [
       "   Fec. Ing.   Ingreso Fec. Cobro                   Asegurado  Cuota n°  \\\n",
       "0 2024-06-24  18066336 2024-06-14           INTELEKTRON S.A.    Cta.6/6   \n",
       "1 2024-02-21  17871094 2024-02-16           INTELEKTRON S.A.    Cta.2/6   \n",
       "2 2024-07-18  18109375 2024-07-15  OBRA SOCIAL DE RELOJEROS     Cta.1/4   \n",
       "3 2024-04-11  17949902 2024-04-11     BASILE NAHUEL JEREMIAS    Cta.1/4   \n",
       "4 2024-05-20  18013690 2024-05-20     BASILE NAHUEL JEREMIAS    Cta.2/4   \n",
       "\n",
       "         Póliza                     Compañía Mon.  Mto. Pagado  \\\n",
       "0  4/30706114/0  726 Fed.Patronal Seguros SA    $   657,883.95   \n",
       "1  4/30706114/0  726 Fed.Patronal Seguros SA    $   657,883.00   \n",
       "2  4/32425709/0  726 Fed.Patronal Seguros SA    $   491,457.04   \n",
       "3  4/31373490/0  726 Fed.Patronal Seguros SA    $   464,875.00   \n",
       "4  4/31373490/0  726 Fed.Patronal Seguros SA    $   464,875.00   \n",
       "\n",
       "              Origen  Cobrador  Numero De Referencia  Cuota_Agrupada  \n",
       "0        DEB AUT CBU         6                   NaN  Cuota muy alta  \n",
       "1        DEB AUT CBU         6                   NaN  Cuota muy alta  \n",
       "2         PAGOS LINK         0         33,570,136.00  Cuota muy alta  \n",
       "3  PAGO FACIL ONLINE         0         32,086,429.00  Cuota muy alta  \n",
       "4  PAGO FACIL ONLINE         0         32,086,429.00  Cuota muy alta  "
      ]
     },
     "execution_count": 71,
     "metadata": {},
     "output_type": "execute_result"
    }
   ],
   "source": [
    "df.head()"
   ]
  },
  {
   "cell_type": "code",
   "execution_count": 73,
   "metadata": {},
   "outputs": [
    {
     "data": {
      "text/plain": [
       "Cuota_Agrupada\n",
       "Cuota alta        12062\n",
       "Cuota muy alta    10297\n",
       "Cuota media        7221\n",
       "Cuota baja          420\n",
       "Name: count, dtype: int64"
      ]
     },
     "execution_count": 73,
     "metadata": {},
     "output_type": "execute_result"
    }
   ],
   "source": [
    "df['Cuota_Agrupada'].value_counts()"
   ]
  }
 ],
 "metadata": {
  "kernelspec": {
   "display_name": "base",
   "language": "python",
   "name": "python3"
  },
  "language_info": {
   "codemirror_mode": {
    "name": "ipython",
    "version": 3
   },
   "file_extension": ".py",
   "mimetype": "text/x-python",
   "name": "python",
   "nbconvert_exporter": "python",
   "pygments_lexer": "ipython3",
   "version": "3.11.7"
  }
 },
 "nbformat": 4,
 "nbformat_minor": 2
}
